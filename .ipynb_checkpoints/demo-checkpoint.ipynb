{
 "cells": [
  {
   "cell_type": "code",
   "execution_count": 1,
   "id": "5771234b-ab12-4a2c-a496-09991d2d9d94",
   "metadata": {},
   "outputs": [
    {
     "name": "stdout",
     "output_type": "stream",
     "text": [
      "My name is kjk\n"
     ]
    }
   ],
   "source": [
    "print(\"My name is kjk\")"
   ]
  },
  {
   "cell_type": "code",
   "execution_count": 3,
   "id": "864ba0ef-2385-482f-8043-a1599f4cf244",
   "metadata": {},
   "outputs": [
    {
     "data": {
      "text/plain": [
       "7"
      ]
     },
     "execution_count": 3,
     "metadata": {},
     "output_type": "execute_result"
    }
   ],
   "source": [
    "# Math this\n",
    "5+2"
   ]
  },
  {
   "cell_type": "code",
   "execution_count": null,
   "id": "ee22fb77-2810-4525-8f53-93b04ae9c6e6",
   "metadata": {},
   "outputs": [],
   "source": []
  }
 ],
 "metadata": {
  "kernelspec": {
   "display_name": "Python 3 (ipykernel)",
   "language": "python",
   "name": "python3"
  },
  "language_info": {
   "codemirror_mode": {
    "name": "ipython",
    "version": 3
   },
   "file_extension": ".py",
   "mimetype": "text/x-python",
   "name": "python",
   "nbconvert_exporter": "python",
   "pygments_lexer": "ipython3",
   "version": "3.12.4"
  }
 },
 "nbformat": 4,
 "nbformat_minor": 5
}
